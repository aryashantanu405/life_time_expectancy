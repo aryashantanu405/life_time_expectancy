{
  "nbformat": 4,
  "nbformat_minor": 0,
  "metadata": {
    "colab": {
      "provenance": [],
      "authorship_tag": "ABX9TyPw42chcnIOeMqGl1Y+zBXC",
      "include_colab_link": true
    },
    "kernelspec": {
      "name": "python3",
      "display_name": "Python 3"
    },
    "language_info": {
      "name": "python"
    }
  },
  "cells": [
    {
      "cell_type": "markdown",
      "metadata": {
        "id": "view-in-github",
        "colab_type": "text"
      },
      "source": [
        "<a href=\"https://colab.research.google.com/github/aryashantanu405/life_time_expectancy/blob/main/life_time_expectancy.ipynb\" target=\"_parent\"><img src=\"https://colab.research.google.com/assets/colab-badge.svg\" alt=\"Open In Colab\"/></a>"
      ]
    },
    {
      "cell_type": "code",
      "execution_count": 2,
      "metadata": {
        "id": "U6AY-sDAu69N"
      },
      "outputs": [],
      "source": [
        "# Cell 2: Import all required libraries\n",
        "import pandas as pd\n",
        "import numpy as np\n",
        "import matplotlib.pyplot as plt\n",
        "import seaborn as sns\n",
        "from sklearn.model_selection import train_test_split\n",
        "from sklearn.linear_model import LinearRegression\n",
        "from sklearn.tree import DecisionTreeRegressor\n",
        "from sklearn.metrics import mean_squared_error, r2_score\n",
        "from sklearn.preprocessing import LabelEncoder"
      ]
    },
    {
      "cell_type": "code",
      "source": [
        "df = pd.read_csv('life_expectancy.csv')\n",
        "print(f\"Original columns:\\n{df.columns.tolist()}\\n\")\n",
        "\n",
        "# Clean column names (remove trailing/leading spaces)\n",
        "df.columns = df.columns.str.strip()\n",
        "print(f\"Cleaned columns:\\n{df.columns.tolist()}\\n\")\n",
        "\n",
        "print(f\"Dataset shape: {df.shape}\")\n",
        "df.head()"
      ],
      "metadata": {
        "id": "Sps2WOC6vMQ2"
      },
      "execution_count": null,
      "outputs": []
    },
    {
      "cell_type": "code",
      "source": [
        "# Correct column name for life expectancy\n",
        "df = df.rename(columns={'Life expectancy': 'Life_expectancy'})\n",
        "\n",
        "# Drop rows where target is missing\n",
        "df = df.dropna(subset=['Life_expectancy'])\n",
        "\n",
        "# Columns to drop (with exact names)\n",
        "cols_to_drop = ['Population', 'Hepatitis B', 'Total expenditure', 'GDP', 'Measles', 'under-five deaths']\n",
        "df = df.drop([col for col in cols_to_drop if col in df.columns], axis=1)\n",
        "\n",
        "# Fill numerical missing values\n",
        "num_cols = df.select_dtypes(include=['float64', 'int64']).columns\n",
        "df[num_cols] = df[num_cols].fillna(df[num_cols].median())\n",
        "\n",
        "# Encode categoricals\n",
        "df['Country'] = LabelEncoder().fit_transform(df['Country'])\n",
        "df['Status'] = LabelEncoder().fit_transform(df['Status'])\n",
        "\n",
        "print(\"Missing values after cleaning:\")\n",
        "print(df.isnull().sum())"
      ],
      "metadata": {
        "id": "jyMMn_kYvmIV"
      },
      "execution_count": null,
      "outputs": []
    },
    {
      "cell_type": "code",
      "source": [
        "plt.figure(figsize=(12,6))\n",
        "sns.histplot(df['Life_expectancy'], kde=True, bins=30)\n",
        "plt.title('Life Expectancy Distribution')\n",
        "plt.show()\n",
        "\n",
        "# Top correlated features\n",
        "corr_matrix = df.corr()\n",
        "plt.figure(figsize=(16,10))\n",
        "sns.heatmap(corr_matrix, annot=True, cmap='coolwarm', fmt=\".2f\")\n",
        "plt.title('Feature Correlation Matrix')\n",
        "plt.show()"
      ],
      "metadata": {
        "id": "LnIz1LziwaiU"
      },
      "execution_count": null,
      "outputs": []
    },
    {
      "cell_type": "code",
      "source": [
        "X = df.drop(['Life_expectancy', 'Year', 'Country'], axis=1)\n",
        "y = df['Life_expectancy']\n",
        "\n",
        "X_train, X_test, y_train, y_test = train_test_split(X, y, test_size=0.2, random_state=42)\n",
        "print(f\"Training set: {X_train.shape}, Test set: {X_test.shape}\")"
      ],
      "metadata": {
        "colab": {
          "base_uri": "https://localhost:8080/"
        },
        "id": "DJqGXNp7wiS4",
        "outputId": "ab1a1602-e551-4c46-e17b-44dc1b4c2a57"
      },
      "execution_count": 13,
      "outputs": [
        {
          "output_type": "stream",
          "name": "stdout",
          "text": [
            "Training set: (2342, 13), Test set: (586, 13)\n"
          ]
        }
      ]
    },
    {
      "cell_type": "code",
      "source": [
        "lr = LinearRegression()\n",
        "lr.fit(X_train, y_train)\n",
        "\n",
        "y_pred = lr.predict(X_test)\n",
        "print(\"Linear Regression:\")\n",
        "print(f\"MSE: {mean_squared_error(y_test, y_pred):.2f}\")\n",
        "print(f\"R²: {r2_score(y_test, y_pred):.2f}\")\n",
        "\n",
        "# Show coefficients\n",
        "coef_df = pd.DataFrame({'Feature': X.columns, 'Coefficient': lr.coef_})\n",
        "print(\"\\nTop 5 impactful features:\")\n",
        "print(coef_df.sort_values('Coefficient', ascending=False).head(5))"
      ],
      "metadata": {
        "id": "o28gFtWjwiTj"
      },
      "execution_count": null,
      "outputs": []
    },
    {
      "cell_type": "code",
      "source": [
        "# Cell 8: Final Evaluation Metrics\n",
        "from sklearn.metrics import mean_absolute_error\n",
        "\n",
        "# Decision Tree (usually better for this data)\n",
        "dt_model = DecisionTreeRegressor(max_depth=5, random_state=42)\n",
        "dt_model.fit(X_train, y_train)\n",
        "y_pred_dt = dt_model.predict(X_test)\n",
        "\n",
        "print(\"=== Decision Tree ===\")\n",
        "print(f\"MAE: {mean_absolute_error(y_test, y_pred_dt):.2f} years\")\n",
        "print(f\"MSE: {mean_squared_error(y_test, y_pred_dt):.2f}\")\n",
        "print(f\"R²: {r2_score(y_test, y_pred_dt):.2f}\")\n",
        "\n",
        "# Compare with Linear Regression\n",
        "y_pred_lr = lr.predict(X_test)\n",
        "print(\"\\n=== Linear Regression ===\")\n",
        "print(f\"MAE: {mean_absolute_error(y_test, y_pred_lr):.2f} years\")\n",
        "print(f\"R²: {r2_score(y_test, y_pred_lr):.2f}\")"
      ],
      "metadata": {
        "id": "ZFc7U-yDw3ly"
      },
      "execution_count": null,
      "outputs": []
    },
    {
      "cell_type": "code",
      "source": [
        "# Cell 9: Input with Value Ranges and Validation\n",
        "def predict_life_expectancy(model):\n",
        "    # Feature info dictionary (name: [default, min, max, description])\n",
        "    feature_info = {\n",
        "        'Status': [1, 0, 1, \"0=Developing, 1=Developed\"],\n",
        "        'Adult Mortality': [200, 10, 500, \"Deaths per 1000 adults\"],\n",
        "        'infant deaths': [10, 0, 1000, \"Infant deaths per 1000\"],\n",
        "        'Alcohol': [5.0, 0, 20, \"Alcohol consumption (liters/capita)\"],\n",
        "        'percentage expenditure': [500, 0, 10000, \"Healthcare expenditure %\"],\n",
        "        'BMI': [20.0, 10, 40, \"Average Body Mass Index\"],\n",
        "        'Polio': [80, 0, 100, \"Polio immunization coverage %\"],\n",
        "        'Diphtheria': [80, 0, 100, \"Diphtheria immunization coverage %\"],\n",
        "        'HIV/AIDS': [1.0, 0, 30, \"HIV/AIDS prevalence %\"],\n",
        "        'thinness  1-19 years': [5.0, 0, 30, \"Thinness prevalence age 10-19\"],\n",
        "        'thinness 5-9 years': [5.0, 0, 30, \"Thinness prevalence age 5-9\"],\n",
        "        'Income composition of resources': [0.5, 0, 1, \"Income index (0-1)\"],\n",
        "        'Schooling': [10, 0, 20, \"Average years of schooling\"]\n",
        "    }\n",
        "\n",
        "    print(\"Enter features (press Enter for defaults):\")\n",
        "    features = {}\n",
        "    for feature, (default, min_val, max_val, desc) in feature_info.items():\n",
        "        while True:\n",
        "            try:\n",
        "                user_input = input(f\"{feature} ({desc}) [{default}]: \") or default\n",
        "                val = float(user_input)\n",
        "                if min_val <= val <= max_val:\n",
        "                    features[feature] = val\n",
        "                    break\n",
        "                else:\n",
        "                    print(f\"Must be between {min_val}-{max_val}\")\n",
        "            except ValueError:\n",
        "                print(\"Please enter a number\")\n",
        "\n",
        "    # Create properly ordered DataFrame\n",
        "    input_data = pd.DataFrame([features], columns=X_train.columns)\n",
        "\n",
        "    # Predict\n",
        "    prediction = model.predict(input_data)[0]\n",
        "    print(f\"\\nPredicted Life Expectancy: {prediction:.1f} years\")\n",
        "    print(f\"Range: {prediction-5.1:.1f} to {prediction+5.1:.1f} (95% confidence)\")\n",
        "\n",
        "# Test it\n",
        "predict_life_expectancy(dt_model)"
      ],
      "metadata": {
        "colab": {
          "base_uri": "https://localhost:8080/"
        },
        "id": "nsPI5thPw3mY",
        "outputId": "a5636895-6aaf-4f49-c550-cb16b273bb8a"
      },
      "execution_count": 18,
      "outputs": [
        {
          "output_type": "stream",
          "name": "stdout",
          "text": [
            "Enter features (press Enter for defaults):\n",
            "Status (0=Developing, 1=Developed) [1]: 1\n",
            "Adult Mortality (Deaths per 1000 adults) [200]: 300\n",
            "infant deaths (Infant deaths per 1000) [10]: 230\n",
            "Alcohol (Alcohol consumption (liters/capita)) [5.0]: 12\n",
            "percentage expenditure (Healthcare expenditure %) [500]: 23\n",
            "BMI (Average Body Mass Index) [20.0]: 12\n",
            "Polio (Polio immunization coverage %) [80]: 78\n",
            "Diphtheria (Diphtheria immunization coverage %) [80]: 79\n",
            "HIV/AIDS (HIV/AIDS prevalence %) [1.0]: 0.2\n",
            "thinness  1-19 years (Thinness prevalence age 10-19) [5.0]: 8\n",
            "thinness 5-9 years (Thinness prevalence age 5-9) [5.0]: 5\n",
            "Income composition of resources (Income index (0-1)) [0.5]: .4\n",
            "Schooling (Average years of schooling) [10]: 9\n",
            "\n",
            "Predicted Life Expectancy: 59.9 years\n",
            "Range: 54.8 to 65.0 (95% confidence)\n"
          ]
        }
      ]
    }
  ]
}